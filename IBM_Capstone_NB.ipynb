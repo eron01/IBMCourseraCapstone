{
 "cells": [
  {
   "cell_type": "markdown",
   "metadata": {},
   "source": [
    "# Selecting a neighboorhood for new restaurant in Curitiba, Brazil\n",
    "IBM Data Science Capstone Project"
   ]
  },
  {
   "cell_type": "markdown",
   "metadata": {},
   "source": [
    "## Introduction"
   ]
  },
  {
   "cell_type": "markdown",
   "metadata": {},
   "source": [
    "Creating a new business involves a lot of risk, and is well known that most of new venture struggle to survive in the first years in the market. Competition, market, customer behavior, technology and many other factors define success or failure of the companies.\n",
    "\n",
    "In Brazil, according to the national bureau of statistics (IBGE), 71.9% of the companies survive the first 5 years, and and average of 16% of existing companies vanish every year. \n",
    "\n",
    "For most business that will interact direcly with customers, location is very important. The proper location allows the company to be seen and visited by the target customer base and also fight or get distance from potential competitiors. Specially for a restaurant business, location is always a priority in the marketing strategy."
   ]
  },
  {
   "cell_type": "markdown",
   "metadata": {},
   "source": [
    "## Business Case"
   ]
  },
  {
   "cell_type": "markdown",
   "metadata": {},
   "source": [
    "The following analysis aims to identify a proper location for a new restaurant in the city of Curitiba, Brazil. Curitiba is located in the Parana province, south of Brazil. With a population of 1.9 mi people, is the 5th largest metropolitan area in country, and has one of the highest GDP per capita.\n",
    "\n",
    "Using demographic data provided by open sources such as IPPUC (City's open data repository) combined with businesses information retrieved from Foursquares API, we intend to analyze potential neighborhoods for a new restaurant and also propose which type of food to serve."
   ]
  },
  {
   "cell_type": "markdown",
   "metadata": {},
   "source": [
    "image: ![Curitiba](https://images.app.goo.gl/Qn5TvSF4BSmACSTM9)"
   ]
  },
  {
   "cell_type": "markdown",
   "metadata": {},
   "source": [
    "#### Deliverables and questions to be answered"
   ]
  },
  {
   "cell_type": "markdown",
   "metadata": {},
   "source": [
    "* Demographic analysis: \n",
    "  + How the neighborhoods compare to each other?\n",
    "  + Neighboorhoods segmentation using clustering\n",
    "* Identify potential location\n",
    "* Propose restaurant category"
   ]
  },
  {
   "cell_type": "markdown",
   "metadata": {},
   "source": [
    "#### Data sources"
   ]
  },
  {
   "cell_type": "markdown",
   "metadata": {},
   "source": [
    "1. Curitiba demographic data: https://curitibaemdados.ippuc.org.br/Curitiba_em_dados_Pesquisa.htm\n",
    "2. Foursquare API"
   ]
  },
  {
   "cell_type": "code",
   "execution_count": null,
   "metadata": {},
   "outputs": [],
   "source": []
  },
  {
   "cell_type": "code",
   "execution_count": null,
   "metadata": {},
   "outputs": [],
   "source": []
  }
 ],
 "metadata": {
  "kernelspec": {
   "display_name": "Python 3",
   "language": "python",
   "name": "python3"
  },
  "language_info": {
   "codemirror_mode": {
    "name": "ipython",
    "version": 3
   },
   "file_extension": ".py",
   "mimetype": "text/x-python",
   "name": "python",
   "nbconvert_exporter": "python",
   "pygments_lexer": "ipython3",
   "version": "3.8.3"
  }
 },
 "nbformat": 4,
 "nbformat_minor": 4
}
